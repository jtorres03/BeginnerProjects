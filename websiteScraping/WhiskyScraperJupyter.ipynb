{
 "cells": [
  {
   "cell_type": "code",
   "execution_count": 3,
   "id": "7ec657af",
   "metadata": {},
   "outputs": [],
   "source": [
    "# import libraries\n",
    "import urllib.request as urllib2\n",
    "from bs4 import BeautifulSoup\n",
    "import pandas as pd\n",
    "import requests\n",
    "import pprint\n",
    "\n",
    "# create a variable for url\n",
    "baseUrl = 'https://www.thewhiskyexchange.com'\n",
    "\n",
    "# create variable for user-agent\n",
    "headers = {'User-Agent': 'Mozilla/5.0 (Macintosh; Intel Mac OS X 10_15_7) AppleWebKit/537.36 (KHTML, like Gecko) Chrome/103.0.0.0 Safari/537.36'}\n",
    "\n",
    "# HTTP call \n",
    "# k = requests.get('https://www.thewhiskyexchange.com/c/33/american-whiskey').text\n",
    "\n",
    "# Create empty list\n",
    "productLinks = []\n",
    "# beautiful soup extraction \n",
    "for x in range(1,13):\n",
    "    k = requests.get('https://www.thewhiskyexchange.com/c/33/american-whiskey?pg={}&psize=24&sort=pasc'.format(x)).text # HTTP call\n",
    "    soup = BeautifulSoup(k, 'html.parser') # parse html with BeautifulSoup\n",
    "    productList = soup.find_all('li', {'class':'product-grid__item'}) # using bs4 to find data\n",
    "\n",
    "    for product in productList: # create a for loop to obtain all prodcuts \n",
    "        link = product.find('a', {'class':'product-card'}).get('href')\n",
    "        productLinks.append(baseUrl + link)\n",
    "# print(productlinks)\n",
    "\n",
    "# create empty list for data\n",
    "data = []\n",
    "# Extract data you want from each link using for loop\n",
    "for link in productLinks:\n",
    "    f = requests.get(link, headers=headers).text # call links \n",
    "    hun = BeautifulSoup(f, 'html.parser') # parse texts from links\n",
    "\n",
    "    try:\n",
    "        price = hun.find('p', {'class':'product-action__price'}).text.replace('/n', '')\n",
    "    except:\n",
    "        price = None\n",
    "\n",
    "    try:\n",
    "        about = hun.find('div', {'class':'product-main__description'}).text.replace('\\n', '')\n",
    "    except:\n",
    "        about = None\n",
    "    \n",
    "    try:\n",
    "        rating = hun.find('div', {'class':'review-overview'}).text.replace('\\n', '')\n",
    "    except:\n",
    "        rating = None\n",
    "    \n",
    "    try:\n",
    "        name = hun.find('h1', {'class':'product-main__name'}).text.replace('\\n', '')\n",
    "    except:\n",
    "        name = None\n",
    "\n",
    "    whisky = {'name':name, 'price':price, 'rating':rating, 'about':about}\n",
    "\n",
    "    data.append(whisky)\n",
    "\n",
    "df = pd.DataFrame(data)"
   ]
  },
  {
   "cell_type": "code",
   "execution_count": 6,
   "id": "d156a8cf",
   "metadata": {},
   "outputs": [
    {
     "name": "stdout",
     "output_type": "stream",
     "text": [
      "<class 'pandas.core.frame.DataFrame'>\n",
      "RangeIndex: 266 entries, 0 to 265\n",
      "Data columns (total 4 columns):\n",
      " #   Column  Non-Null Count  Dtype \n",
      "---  ------  --------------  ----- \n",
      " 0   name    266 non-null    object\n",
      " 1   price   266 non-null    object\n",
      " 2   rating  151 non-null    object\n",
      " 3   about   266 non-null    object\n",
      "dtypes: object(4)\n",
      "memory usage: 8.4+ KB\n"
     ]
    }
   ],
   "source": [
    "df.info()"
   ]
  }
 ],
 "metadata": {
  "kernelspec": {
   "display_name": "Python 3 (ipykernel)",
   "language": "python",
   "name": "python3"
  },
  "language_info": {
   "codemirror_mode": {
    "name": "ipython",
    "version": 3
   },
   "file_extension": ".py",
   "mimetype": "text/x-python",
   "name": "python",
   "nbconvert_exporter": "python",
   "pygments_lexer": "ipython3",
   "version": "3.9.7"
  }
 },
 "nbformat": 4,
 "nbformat_minor": 5
}
